{
 "cells": [
  {
   "cell_type": "code",
   "execution_count": 1,
   "id": "9eb4b058-9e52-4a46-a59c-e4ee3310044d",
   "metadata": {
    "tags": []
   },
   "outputs": [
    {
     "ename": "ModuleNotFoundError",
     "evalue": "No module named 'cv2'",
     "output_type": "error",
     "traceback": [
      "\u001b[0;31m---------------------------------------------------------------------------\u001b[0m",
      "\u001b[0;31mModuleNotFoundError\u001b[0m                       Traceback (most recent call last)",
      "Cell \u001b[0;32mIn[1], line 1\u001b[0m\n\u001b[0;32m----> 1\u001b[0m \u001b[38;5;28;01mimport\u001b[39;00m \u001b[38;5;21;01mcv2\u001b[39;00m\n",
      "\u001b[0;31mModuleNotFoundError\u001b[0m: No module named 'cv2'"
     ]
    }
   ],
   "source": [
    "import cv2"
   ]
  },
  {
   "cell_type": "code",
   "execution_count": null,
   "id": "652d7218-ecfa-45fe-a9ab-862e25bdee97",
   "metadata": {},
   "outputs": [],
   "source": [
    "avi_name = “beetle_flight.avi”\n",
    "video = cv2.VideoCapture(avi_name)"
   ]
  },
  {
   "cell_type": "code",
   "execution_count": null,
   "id": "f3d710f6-e34a-4be6-b7ad-d03974ebec49",
   "metadata": {},
   "outputs": [],
   "source": [
    "# Obtain number of frames in a video\n",
    "video.get(cv2.CAP_PROP_FRAME_COUNT)"
   ]
  },
  {
   "cell_type": "code",
   "execution_count": null,
   "id": "12b2ccdb-4bcb-464b-8b43-76df5bf18420",
   "metadata": {},
   "outputs": [],
   "source": [
    "# Set to the first frame in a video\n",
    "video.set(cv2.CAP_PROP_POS_FRAMES, 0)\n",
    "check, first_frame = video.read()\n",
    "\n",
    "# Set to the last frame in a video\n",
    "video.set(cv2.CAP_PROP_POS_FRAMES, int(video.get(cv2.CAP_PROP_FRAME_COUNT)) - 1)\n",
    "check, last_frame = video.read()\n"
   ]
  },
  {
   "cell_type": "code",
   "execution_count": null,
   "id": "d4c3f1cc-d71f-416c-8aa5-a50fbde44c20",
   "metadata": {},
   "outputs": [],
   "source": [
    "cv2.imwrite('first_frame.png', first_frame)\n",
    "cv2.imwrite('last_frame.png', last_frame)"
   ]
  },
  {
   "cell_type": "code",
   "execution_count": null,
   "id": "81215e87-e633-4eac-83cb-b6fb5dfc8d8c",
   "metadata": {},
   "outputs": [],
   "source": [
    "# Grayscale\n",
    "last = last_frame[:, :, 0]\n",
    "first = first_frame[:, :, 0]\n",
    "\n",
    "# Difference between two frames\n",
    "threshold_value = 12\n",
    "differ_frame = cv2.absdiff(first, last)\n",
    "thresh_frame = cv2.threshold(differ_frame, threshold_value, 255, cv2.THRESH_BINARY)[1]"
   ]
  },
  {
   "cell_type": "code",
   "execution_count": null,
   "id": "1cdd5714-9217-46a6-8b1d-67a907c84e2f",
   "metadata": {},
   "outputs": [],
   "source": [
    "# Find contours\n",
    "cont,_ = cv2.findContours(thresh_frame.copy(), cv2.RETR_EXTERNAL, cv2.CHAIN_APPROX_SIMPLE)  \n",
    "\n",
    "# Filter contours that are too small\n",
    "for cur in cont:\n",
    "    if cv2.contourArea(cur) < 10:  \n",
    "        continue  \n",
    "    (x, y, w, h) = cv2.boundingRect(cur)\n",
    "\n",
    "# Put a green box in the first_frame \n",
    "cv2.rectangle(first_frame, (x, y), (x + w, y + h), (0, 255, 0), 3)\n"
   ]
  }
 ],
 "metadata": {
  "kernelspec": {
   "display_name": "Python 3 (ipykernel)",
   "language": "python",
   "name": "python3"
  },
  "language_info": {
   "codemirror_mode": {
    "name": "ipython",
    "version": 3
   },
   "file_extension": ".py",
   "mimetype": "text/x-python",
   "name": "python",
   "nbconvert_exporter": "python",
   "pygments_lexer": "ipython3",
   "version": "3.11.5"
  }
 },
 "nbformat": 4,
 "nbformat_minor": 5
}
